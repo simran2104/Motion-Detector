{
 "cells": [
  {
   "cell_type": "code",
   "execution_count": 13,
   "id": "ffe74e0f",
   "metadata": {},
   "outputs": [],
   "source": [
    "# importing OpenCV, time and Pandas library\n",
    "import cv2, time, pandas\n",
    "# importing datetime class from datetime library\n",
    "from datetime import datetime"
   ]
  },
  {
   "cell_type": "code",
   "execution_count": 14,
   "id": "4661af7d",
   "metadata": {},
   "outputs": [],
   "source": [
    "# Assigning our static_back to None\n",
    "static_back = None"
   ]
  },
  {
   "cell_type": "code",
   "execution_count": 15,
   "id": "a1b96762",
   "metadata": {},
   "outputs": [],
   "source": [
    "# List when any moving object appear\n",
    "motion_list = [ None, None ]"
   ]
  },
  {
   "cell_type": "code",
   "execution_count": 16,
   "id": "0c3fc04b",
   "metadata": {},
   "outputs": [],
   "source": [
    "# Time of movement\n",
    "time = []"
   ]
  },
  {
   "cell_type": "code",
   "execution_count": 17,
   "id": "f28f241d",
   "metadata": {},
   "outputs": [],
   "source": [
    "# Initializing DataFrame, one column is start\n",
    "# time and other column is end time\n",
    "df = pandas.DataFrame(columns = [\"Start\", \"End\"])"
   ]
  },
  {
   "cell_type": "code",
   "execution_count": 18,
   "id": "6b461798",
   "metadata": {},
   "outputs": [],
   "source": [
    "video = cv2.VideoCapture(0)\n",
    "# Infinite while loop to treat stack of image as video\n",
    "while True:\n",
    "    # Reading frame(image) from video\n",
    "    check, frame = video.read()\n",
    " \n",
    "    # Initializing motion = 0(no motion)\n",
    "    motion = 0\n",
    " \n",
    "    # Converting color image to gray_scale image\n",
    "    gray = cv2.cvtColor(frame, cv2.COLOR_BGR2GRAY)\n",
    " \n",
    "    # Converting gray scale image to GaussianBlur\n",
    "    # so that change can be find easily\n",
    "    gray = cv2.GaussianBlur(gray, (21, 21), 0)\n",
    " \n",
    "    # In first iteration we assign the value\n",
    "    # of static_back to our first frame\n",
    "    if static_back is None:\n",
    "        static_back = gray\n",
    "        continue\n",
    " \n",
    "    # Difference between static background\n",
    "    # and current frame(which is GaussianBlur)\n",
    "    diff_frame = cv2.absdiff(static_back, gray)\n",
    " \n",
    "    # If change in between static background and\n",
    "    # current frame is greater than 30 it will show white color(255)\n",
    "    thresh_frame = cv2.threshold(diff_frame, 30, 255, cv2.THRESH_BINARY)[1]\n",
    "    thresh_frame = cv2.dilate(thresh_frame, None, iterations = 2)\n",
    " \n",
    "    # Finding contour of moving object\n",
    "    cnts,_ = cv2.findContours(thresh_frame.copy(),\n",
    "                       cv2.RETR_EXTERNAL, cv2.CHAIN_APPROX_SIMPLE)\n",
    " \n",
    "    for contour in cnts:\n",
    "        if cv2.contourArea(contour) < 10000:\n",
    "            continue\n",
    "        motion = 1\n",
    " \n",
    "        (x, y, w, h) = cv2.boundingRect(contour)\n",
    "        # making green rectangle around the moving object\n",
    "        cv2.rectangle(frame, (x, y), (x + w, y + h), (0, 255, 0), 3)\n",
    " \n",
    "    # Appending status of motion\n",
    "    motion_list.append(motion)\n",
    " \n",
    "    motion_list = motion_list[-2:]\n",
    " \n",
    "    # Appending Start time of motion\n",
    "    if motion_list[-1] == 1 and motion_list[-2] == 0:\n",
    "        time.append(datetime.now())\n",
    " \n",
    "    # Appending End time of motion\n",
    "    if motion_list[-1] == 0 and motion_list[-2] == 1:\n",
    "        time.append(datetime.now())\n",
    " \n",
    "    # Displaying image in gray_scale\n",
    "    cv2.imshow(\"Gray Frame\", gray)\n",
    " \n",
    "    # Displaying the difference in currentframe to\n",
    "    # the staticframe(very first_frame)\n",
    "    cv2.imshow(\"Difference Frame\", diff_frame)\n",
    " \n",
    "    # Displaying the black and white image in which if\n",
    "    # intensity difference greater than 30 it will appear white\n",
    "    cv2.imshow(\"Threshold Frame\", thresh_frame)\n",
    " \n",
    "    # Displaying color frame with contour of motion of object\n",
    "    cv2.imshow(\"Color Frame\", frame)\n",
    " \n",
    "    key = cv2.waitKey(1)\n",
    "    # if q entered whole process will stop\n",
    "    if key == ord('q'):\n",
    "        # if something is movingthen it append the end time of movement\n",
    "        if motion == 1:\n",
    "            time.append(datetime.now())\n",
    "        break\n"
   ]
  },
  {
   "cell_type": "code",
   "execution_count": 19,
   "id": "5dcb20a9",
   "metadata": {},
   "outputs": [],
   "source": [
    "# Appending time of motion in DataFrame\n",
    "for i in range(0, len(time), 2):\n",
    "    df = df.append({\"Start\":time[i], \"End\":time[i + 1]}, ignore_index = True)"
   ]
  },
  {
   "cell_type": "code",
   "execution_count": 20,
   "id": "a48c4e93",
   "metadata": {},
   "outputs": [],
   "source": [
    "# Creating a CSV file in which time of movements will be saved\n",
    "df.to_csv(\"Time_of_movements.csv\")\n",
    " "
   ]
  },
  {
   "cell_type": "code",
   "execution_count": 21,
   "id": "0f0b10f0",
   "metadata": {},
   "outputs": [],
   "source": [
    "video.release()"
   ]
  },
  {
   "cell_type": "code",
   "execution_count": 22,
   "id": "c927b3ce",
   "metadata": {},
   "outputs": [],
   "source": [
    "# Destroying all the windows\n",
    "cv2.destroyAllWindows()"
   ]
  },
  {
   "cell_type": "code",
   "execution_count": 23,
   "id": "53535121",
   "metadata": {},
   "outputs": [
    {
     "data": {
      "text/plain": [
       "Text(0, 0.5, 'Time in sec')"
      ]
     },
     "execution_count": 23,
     "metadata": {},
     "output_type": "execute_result"
    },
    {
     "data": {
      "image/png": "[encoded data removed]",
      "text/plain": [
       "<Figure size 432x288 with 1 Axes>"
      ]
     },
     "metadata": {
      "needs_background": "light"
     },
     "output_type": "display_data"
    }
   ],
   "source": [
    "import matplotlib.pyplot as plt\n",
    "import pandas as pd\n",
    "file=pd.read_csv(\"Time_of_movements.csv\")\n",
    "file.plot.bar(color='orange',label=\"train_score\")\n",
    "plt.xlabel('No. of Frames',fontsize=12)\n",
    "plt.ylabel('Time in sec',fontsize=12)"
   ]
  },
  {
   "cell_type": "code",
   "execution_count": null,
   "id": "bb497561",
   "metadata": {},
   "outputs": [],
   "source": []
  }
 ],
 "metadata": {
  "kernelspec": {
   "display_name": "Python 3",
   "language": "python",
   "name": "python3"
  },
  "language_info": {
   "codemirror_mode": {
    "name": "ipython",
    "version": 3
   },
   "file_extension": ".py",
   "mimetype": "text/x-python",
   "name": "python",
   "nbconvert_exporter": "python",
   "pygments_lexer": "ipython3",
   "version": "3.8.8"
  }
 },
 "nbformat": 4,
 "nbformat_minor": 5
}
